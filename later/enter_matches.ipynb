{
 "cells": [
  {
   "cell_type": "code",
   "execution_count": 1,
   "metadata": {},
   "outputs": [],
   "source": [
    "num_matches = int(input(\"How many matches?: \"))\n",
    "match_dict = {}\n",
    "for i in range(num_matches):\n",
    "    x = input(f\"Team nums for match {i+1} (separated by spaces): \")\n",
    "    xls = list(x.split(\" \"))\n",
    "    match_dict[i+1] =  xls\n",
    "print(match_dict)"
   ]
  }
 ],
 "metadata": {
  "kernelspec": {
   "display_name": "Python 3",
   "language": "python",
   "name": "python3"
  },
  "language_info": {
   "codemirror_mode": {
    "name": "ipython",
    "version": 3
   },
   "file_extension": ".py",
   "mimetype": "text/x-python",
   "name": "python",
   "nbconvert_exporter": "python",
   "pygments_lexer": "ipython3",
   "version": "3.10.5"
  },
  "orig_nbformat": 4
 },
 "nbformat": 4,
 "nbformat_minor": 2
}
